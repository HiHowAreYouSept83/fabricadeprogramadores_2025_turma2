{
 "cells": [
  {
   "cell_type": "markdown",
   "metadata": {},
   "source": [
    "# Revisão de Programação em Python\n",
    "## Alunos da Rede Pública Municipal de Santana de Parnaíba inscritos na Fábrica de Programadores!\n",
    "\n",
    "Neste notebook, vamos revisar os conceitos aprendidos:\n",
    "- Variáveis e tipos básicos 😁\n",
    "- Listas 📋\n",
    "- Estruturas condicionais (if, elif, else) ⬅️➡️\n",
    "- Casting 🫠\n",
    "- Funções 📐\n",
    "- Escopo (global, local) 🌍🏠\n",
    "- Composição ➗\n",
    "- Loops (while, for) 🌀\n",
    "- Lógica básica de programação 🧠\n",
    "\n",
    "Responda todos os exercícios utilizando composição!"
   ]
  },
  {
   "cell_type": "markdown",
   "metadata": {},
   "source": [
    "## Exercício 1: Variáveis e Tipos Básicos"
   ]
  },
  {
   "cell_type": "code",
   "execution_count": 7,
   "metadata": {},
   "outputs": [
    {
     "name": "stdout",
     "output_type": "stream",
     "text": [
      "Matheus\n",
      "16\n",
      "1.76\n",
      "sim\n"
     ]
    }
   ],
   "source": [
    "# 1. Declare variáveis para armazenar:\n",
    "#    - Seu nome (string)\n",
    "#    - Sua idade (int)\n",
    "#    - Sua altura em metros (float)\n",
    "#    - Se você gosta de programar (True, False)\n",
    "#    - Depois, imprima cada uma dessas variáveis\n",
    "\n",
    "# Seu código aqui\n",
    "nome=(input(\"inisra seu nome:\"))\n",
    "idade=int(input(\"insira sua idade:\"))\n",
    "altura=float(input(\"insira sua altura:\"))\n",
    "programar=(input(\"voce gosta de programar?\"))\n",
    "\"nao\" == False\n",
    "\"sim\" == True \n",
    "print(nome)\n",
    "print(idade)\n",
    "print(altura)\n",
    "print(programar) "
   ]
  },
  {
   "cell_type": "markdown",
   "metadata": {},
   "source": [
    "## Exercício 2: Operações com Listas"
   ]
  },
  {
   "cell_type": "code",
   "execution_count": 1,
   "metadata": {},
   "outputs": [
    {
     "name": "stdout",
     "output_type": "stream",
     "text": [
      "['maça', 'pera', 'uva', 'abacaxi', 'banana']\n",
      "['maça', 'pera', 'uva', 'abacaxi', 'banana', 'melancia']\n",
      "['maça', 'pera', 'abacaxi', 'banana', 'melancia']\n",
      "banana\n"
     ]
    }
   ],
   "source": [
    "# 2. Declare uma lista chamada 'frutas' com 5 frutas diferentes\n",
    "#    - Adicione uma nova fruta no final da lista\n",
    "#    - Remova a segunda fruta da lista\n",
    "#    - Imprima a lista resultante\n",
    "#    - Imprima apenas a terceira fruta da lista\n",
    "\n",
    "# Seu código aqui\n",
    "Frutas=[\"maça\", \"pera\", \"uva\", \"abacaxi\", \"banana\"]\n",
    "print(Frutas)\n",
    "#Frutas.append(\"melancia\")\n",
    "Frutas += [\"melancia\"]\n",
    "print(Frutas)\n",
    "Frutas.pop(2)\n",
    "print (Frutas)\n",
    "print(Frutas [3])\n"
   ]
  },
  {
   "cell_type": "markdown",
   "metadata": {},
   "source": [
    "## Exercício 3: Funções, Escopo e Tipos de Dados"
   ]
  },
  {
   "cell_type": "code",
   "execution_count": 4,
   "metadata": {},
   "outputs": [
    {
     "name": "stdout",
     "output_type": "stream",
     "text": [
      "14\n"
     ]
    }
   ],
   "source": [
    "# 3. Defina uma função chamada calcular_dobro que recebe um número inteiro como parâmetro.\n",
    "#    - Dentro da função, calcule o dobro desse número e atribua o resultado a uma variável local chamada resultado_dobro.\n",
    "#    - A função deve retornar resultado_dobro.\n",
    "#    - Fora da função, invoque a função com o número 7 e atribua o valor retornado a uma variável global chamada meu_dobro.\n",
    "#    - Imprima o valor de meu_dobro.\n",
    "\n",
    "# Seu código aqui\n",
    "def calcular_dobro(valor:int):\n",
    "    resultado_dobro = valor * 2\n",
    "    return resultado_dobro\n",
    "meu_dobro = calcular_dobro(7)\n",
    "print(meu_dobro)\n"
   ]
  },
  {
   "cell_type": "markdown",
   "metadata": {},
   "source": [
    "## Exercício 4: Estruturas Condicionais (if, else)"
   ]
  },
  {
   "cell_type": "code",
   "execution_count": 5,
   "metadata": {},
   "outputs": [
    {
     "name": "stdout",
     "output_type": "stream",
     "text": [
      "esse numero é positivo\n"
     ]
    }
   ],
   "source": [
    "# 4. Crie um programa que verifica se um número é positivo, negativo ou zero\n",
    "#    - Peça para o usuário digitar um número\n",
    "#    - Use if, elif e else para verificar o número\n",
    "#    - Imprima o resultado\n",
    "\n",
    "# Seu código aqui\n",
    "cheque = int(input(\"insira um numero:\"))\n",
    "if cheque < 0:\n",
    "    print(\"esse numero é negativo\")\n",
    "elif cheque == 0:\n",
    "    print(\"esse numero é zero\")\n",
    "else: \n",
    "    print(\"esse numero é positivo\")\n"
   ]
  },
  {
   "cell_type": "markdown",
   "metadata": {},
   "source": [
    "## Exercício 5: Loop While"
   ]
  },
  {
   "cell_type": "code",
   "execution_count": 32,
   "metadata": {},
   "outputs": [
    {
     "name": "stdout",
     "output_type": "stream",
     "text": [
      "5\n",
      "4\n",
      "3\n",
      "2\n",
      "1\n",
      "fogo\n"
     ]
    }
   ],
   "source": [
    "# 5. Crie um contador regressivo de 5 até 1 usando while\n",
    "#    - A cada iteração, imprima o número atual\n",
    "#    - Quando chegar a 1, imprima \"Fogo!\"\n",
    "\n",
    "# Seu código aqui\n",
    "def contagem():\n",
    "    x = 5\n",
    "    while x >= 1: \n",
    "        print(x)\n",
    "        x = x - 1\n",
    "    print('fogo') \n",
    "contagem()"
   ]
  },
  {
   "cell_type": "markdown",
   "metadata": {},
   "source": [
    "## Exercício 6: Loop For"
   ]
  },
  {
   "cell_type": "code",
   "execution_count": 10,
   "metadata": {},
   "outputs": [
    {
     "name": "stdout",
     "output_type": "stream",
     "text": [
      "5.0\n"
     ]
    }
   ],
   "source": [
    "# 6. Crie um programa que calcula a média de 5 notas usando for\n",
    "#    - Peça para o usuário digitar 5 notas\n",
    "#    - Use um loop for para somar as notas\n",
    "#    - Calcule e imprima a média\n",
    "\n",
    "# Seu código aqui\n",
    "qtd_notas = 5\n",
    "valor = 0\n",
    "for i in range (qtd_notas):\n",
    "    valor += float(input(\"insira a nota\" + str(i + 1) + \":\"))\n",
    "valor = valor / qtd_notas\n",
    "print(valor)\n",
    "\n",
    "    \n",
    " "
   ]
  },
  {
   "cell_type": "markdown",
   "metadata": {},
   "source": [
    "## Exercício 7: Escopo Global e Local"
   ]
  },
  {
   "cell_type": "code",
   "execution_count": null,
   "metadata": {},
   "outputs": [],
   "source": [
    "# 7. Defina uma variável global chamada saldo_inicial com o valor 1000.50 (tipo float).\n",
    "#    - Crie uma função chamada depositar que recebe um valor_deposito (float) como parâmetro.\n",
    "#    - Dentro da função depositar, adicione o valor_deposito ao saldo_inicial. Lembre-se de usar a palavra-chave global para modificar a variável global.\n",
    "#    - Fora da função, chame depositar com o valor 250.75.\n",
    "#    - Após a chamada da função, imprima o valor atualizado de saldo_inicial.\n",
    "\n",
    "# Seu código aqui\n",
    "saldo_inicial = 1000.5\n",
    "def depositar(valor_deposito:float): \n",
    "    global saldo_inicial\n",
    "    saldo_inicial = saldo_inicial + valor_deposito\n",
    "depositar(250.75)\n",
    "print(saldo_inicial)"
   ]
  },
  {
   "cell_type": "markdown",
   "metadata": {},
   "source": [
    "## Exercício 8: Listas e Loops"
   ]
  },
  {
   "cell_type": "code",
   "execution_count": 11,
   "metadata": {},
   "outputs": [
    {
     "name": "stdout",
     "output_type": "stream",
     "text": [
      "2\n",
      "4\n",
      "6\n",
      "8\n",
      "10\n",
      "[1, 3, 5, 7, 9]\n"
     ]
    }
   ],
   "source": [
    "# 8. Crie uma lista de números de 1 a 10\n",
    "#    - Use um loop for para imprimir apenas os números pares\n",
    "#    - Depois, crie uma nova lista com os números ímpares\n",
    "#    - Imprima a lista de ímpares\n",
    "\n",
    "# Seu código aqui\n",
    "numeros_impares = [] \n",
    "numeros = [1,2,3,4,5,6,7,8,9,10]\n",
    "for numero in numeros:\n",
    "    if numero % 2 == 0:\n",
    "        print(numero) \n",
    "    else:\n",
    "        numeros_impares += [numero]\n",
    "print(numeros_impares)"
   ]
  },
  {
   "cell_type": "markdown",
   "metadata": {},
   "source": [
    "## Exercício 9: Jogo de Adivinhação"
   ]
  },
  {
   "cell_type": "code",
   "execution_count": null,
   "metadata": {},
   "outputs": [
    {
     "name": "stdout",
     "output_type": "stream",
     "text": [
      "9\n",
      "é menor\n",
      "é maior\n",
      "é maior\n",
      "9\n"
     ]
    }
   ],
   "source": [
    "# 9. Crie um jogo de adivinhação onde:\n",
    "#    - O computador escolhe um número aleatório entre 1 e 10\n",
    "#    - O jogador tem 3 tentativas para adivinhar o número\n",
    "#    - A cada tentativa, diga se o palpite é maior ou menor que o número secreto\n",
    "#    - Se acertar, imprima \"Parabéns!\" e encerre o jogo\n",
    "#    - Se errar todas as tentativas, imprima o número correto\n",
    "\n",
    "# Seu código aqui\n",
    "\n",
    "import random \n",
    "errou = True \n",
    "numero_aleatorio = random.randint(1, 10)\n",
    "tentativas = 3 \n",
    "contador = 0 \n",
    "while contador < tentativas:\n",
    "    tentativa = int(input(\"dgite um valor: \"))\n",
    "    if tentativa == numero_aleatorio:\n",
    "        errou = False \n",
    "        print(\"parabens\")\n",
    "        break\n",
    "    elif tentativa > numero_aleatorio:\n",
    "        print(\"é menor\")\n",
    "    elif tentativa < numero_aleatorio:\n",
    "        print(\"é maior\") \n",
    "    contador += 1 \n",
    "\n",
    "if errou:\n",
    "    print(numero_aleatorio)"
   ]
  },
  {
   "cell_type": "markdown",
   "metadata": {},
   "source": [
    "## Exercício 10: Desafio Final"
   ]
  },
  {
   "cell_type": "code",
   "execution_count": 15,
   "metadata": {},
   "outputs": [
    {
     "name": "stdout",
     "output_type": "stream",
     "text": [
      "altura: 1.75\n",
      "idade:41\n",
      "nome: cleber\n",
      "peso: 56.0\n",
      "imc: 18.29\n",
      "classificação: magreza leve(grau I)\n"
     ]
    }
   ],
   "source": [
    "# 10. Crie um programa que:\n",
    "#    - Pede para o usuário digitar o seu próprio peso em Kgs.\n",
    "#    - Depois, pede ao usuário que digite sua altura em metros.\n",
    "#    - Em terceiro, pede ao usuário que digite seu nome e idade.\n",
    "#    - Adiciona os dados digitados ao final de uma lista (utilizando a função .append()).\n",
    "#    - Calcule o índice de massa corpórea (IMC) do indivíduo de acordo com a fórmula do IMC pesquisada.    \n",
    "#    - Após calcular, registre: Classificação do IMC de acordo com a OMS:\n",
    "#    - < 16         Magreza grave (grau III)\n",
    "#    - 16 a 16,9    Magreza moderada (grau II)\n",
    "#    - 17 a 18,4    Magreza leve (grau I)\n",
    "#    - 18,5 a 24,9  Eutrofia (estado nutricional adequado)\n",
    "#    - 25 a 29,9    Pré-obesidade\n",
    "#    - 30 a 34,9    Obesidade moderada (grau I)\n",
    "#    - 35 a 39,9    Obesidade severa (grau II)\n",
    "#    - >= 40        Obesidade muito severa (grau III)\n",
    "#    - Finalmente, em ordem alfabética (utilizando a função .sort()), exiba todos os itens da lista ao lado de seus dados, seu IMC e sua respectiva classificação.\n",
    "\n",
    "# Seu código aqui\n",
    "dados = [] \n",
    "peso = float(input(\"insira seu peso: \"))\n",
    "altura = float(input(\"insira sua altura: \"))\n",
    "nome = input(\"insira seu nome: \")\n",
    "idade = input(\"insira sua idade:\")\n",
    "\n",
    "dados.append(\"peso: \" + str(peso))\n",
    "dados.append(\"altura: \" +str(altura)) \n",
    "dados.append(\"nome: \" + nome)\n",
    "dados.append(\"idade:\" + idade)\n",
    "\n",
    "imc = peso / (altura ** 2) \n",
    "classificação = \"\"\n",
    "\n",
    "if imc < 16:\n",
    "    classificação = \"magreza grave(grau III)\"\n",
    "elif imc < 16.9: \n",
    "    classificação= \"magreza moderada(grau II)\" \n",
    "elif imc < 18.4:\n",
    "    classificação = \"magreza leve(grau I)\"\n",
    "elif imc < 24.9: \n",
    "    classificação = \"eutrofia(estado nutricional adequado)\" \n",
    "elif imc < 29.9:\n",
    "    classificação = \"pré-obesidade\"\n",
    "elif imc < 34.9: \n",
    "    classificação = \"obesidade moderada(grau I)\" \n",
    "elif imc < 39.9:\n",
    "    classificação = \"obesidade severa(grau II)\" \n",
    "else:\n",
    "    classificação = \"obesidade muito severa(grau III)\" \n",
    "\n",
    "dados.sort() \n",
    "for dado in dados:\n",
    "    print(dado)\n",
    "\n",
    "print (\"imc: \" + str (round(imc,2))) \n",
    "print(\"classificação: \" + classificação)"
   ]
  },
  {
   "cell_type": "markdown",
   "metadata": {},
   "source": [
    "## Parabéns por completar os exercícios! 🥳\n",
    "### Continue praticando e explorando os conceitos de programação."
   ]
  }
 ],
 "metadata": {
  "kernelspec": {
   "display_name": "jupyter",
   "language": "python",
   "name": "python3"
  },
  "language_info": {
   "codemirror_mode": {
    "name": "ipython",
    "version": 3
   },
   "file_extension": ".py",
   "mimetype": "text/x-python",
   "name": "python",
   "nbconvert_exporter": "python",
   "pygments_lexer": "ipython3",
   "version": "3.13.2"
  }
 },
 "nbformat": 4,
 "nbformat_minor": 4
}
